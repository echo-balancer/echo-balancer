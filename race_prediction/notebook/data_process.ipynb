{
 "cells": [
  {
   "cell_type": "code",
   "execution_count": 8,
   "metadata": {},
   "outputs": [],
   "source": [
    "import pandas as pd\n",
    "import numpy as np"
   ]
  },
  {
   "cell_type": "code",
   "execution_count": 44,
   "metadata": {},
   "outputs": [],
   "source": [
    "RACE_COLS = ['pctwhite', 'pctblack', 'pctapi', 'pctaian', 'pct2prace', 'pcthispanic']"
   ]
  },
  {
   "cell_type": "code",
   "execution_count": 10,
   "metadata": {},
   "outputs": [
    {
     "name": "stdout",
     "output_type": "stream",
     "text": [
      "WikiLabels.csv  census_2000.csv census_2010.csv\n"
     ]
    }
   ],
   "source": [
    "!ls ../data"
   ]
  },
  {
   "cell_type": "code",
   "execution_count": 16,
   "metadata": {},
   "outputs": [],
   "source": [
    "census_2000 = pd.read_csv('../data/census_2000.csv')\n",
    "census_2010 = pd.read_csv('../data/census_2010.csv')"
   ]
  },
  {
   "cell_type": "code",
   "execution_count": 47,
   "metadata": {},
   "outputs": [],
   "source": [
    "census = census_2000.append(census_2010, ignore_index=True)"
   ]
  },
  {
   "cell_type": "code",
   "execution_count": 49,
   "metadata": {},
   "outputs": [
    {
     "data": {
      "text/html": [
       "<div>\n",
       "<style scoped>\n",
       "    .dataframe tbody tr th:only-of-type {\n",
       "        vertical-align: middle;\n",
       "    }\n",
       "\n",
       "    .dataframe tbody tr th {\n",
       "        vertical-align: top;\n",
       "    }\n",
       "\n",
       "    .dataframe thead th {\n",
       "        text-align: right;\n",
       "    }\n",
       "</style>\n",
       "<table border=\"1\" class=\"dataframe\">\n",
       "  <thead>\n",
       "    <tr style=\"text-align: right;\">\n",
       "      <th></th>\n",
       "      <th>name</th>\n",
       "      <th>rank</th>\n",
       "      <th>count</th>\n",
       "      <th>prop100k</th>\n",
       "      <th>cum_prop100k</th>\n",
       "      <th>pctwhite</th>\n",
       "      <th>pctblack</th>\n",
       "      <th>pctapi</th>\n",
       "      <th>pctaian</th>\n",
       "      <th>pct2prace</th>\n",
       "      <th>pcthispanic</th>\n",
       "    </tr>\n",
       "  </thead>\n",
       "  <tbody>\n",
       "    <tr>\n",
       "      <th>229413</th>\n",
       "      <td>VANDERWYST</td>\n",
       "      <td>77522</td>\n",
       "      <td>247</td>\n",
       "      <td>0.08</td>\n",
       "      <td>85661.83</td>\n",
       "      <td>99.6</td>\n",
       "      <td>0</td>\n",
       "      <td>(S)</td>\n",
       "      <td>0</td>\n",
       "      <td>0</td>\n",
       "      <td>(S)</td>\n",
       "    </tr>\n",
       "    <tr>\n",
       "      <th>154254</th>\n",
       "      <td>BEAM</td>\n",
       "      <td>2584</td>\n",
       "      <td>13972</td>\n",
       "      <td>4.74</td>\n",
       "      <td>52461.61</td>\n",
       "      <td>92.66</td>\n",
       "      <td>3.06</td>\n",
       "      <td>0.4</td>\n",
       "      <td>0.46</td>\n",
       "      <td>1.47</td>\n",
       "      <td>1.95</td>\n",
       "    </tr>\n",
       "    <tr>\n",
       "      <th>74098</th>\n",
       "      <td>PORSCH</td>\n",
       "      <td>73931</td>\n",
       "      <td>244</td>\n",
       "      <td>0.09</td>\n",
       "      <td>85354.89</td>\n",
       "      <td>93.44</td>\n",
       "      <td>999</td>\n",
       "      <td>999</td>\n",
       "      <td>0</td>\n",
       "      <td>0</td>\n",
       "      <td>4.51</td>\n",
       "    </tr>\n",
       "    <tr>\n",
       "      <th>301707</th>\n",
       "      <td>KIRSHY</td>\n",
       "      <td>149395</td>\n",
       "      <td>110</td>\n",
       "      <td>0.04</td>\n",
       "      <td>89630.15</td>\n",
       "      <td>100</td>\n",
       "      <td>0</td>\n",
       "      <td>0</td>\n",
       "      <td>0</td>\n",
       "      <td>0</td>\n",
       "      <td>0</td>\n",
       "    </tr>\n",
       "    <tr>\n",
       "      <th>222479</th>\n",
       "      <td>ARMANTROUT</td>\n",
       "      <td>70645</td>\n",
       "      <td>277</td>\n",
       "      <td>0.09</td>\n",
       "      <td>85047.99</td>\n",
       "      <td>93.14</td>\n",
       "      <td>0</td>\n",
       "      <td>(S)</td>\n",
       "      <td>2.89</td>\n",
       "      <td>(S)</td>\n",
       "      <td>2.53</td>\n",
       "    </tr>\n",
       "    <tr>\n",
       "      <th>233831</th>\n",
       "      <td>PYTKO</td>\n",
       "      <td>82044</td>\n",
       "      <td>230</td>\n",
       "      <td>0.08</td>\n",
       "      <td>86018.63</td>\n",
       "      <td>98.7</td>\n",
       "      <td>(S)</td>\n",
       "      <td>0</td>\n",
       "      <td>0</td>\n",
       "      <td>(S)</td>\n",
       "      <td>0</td>\n",
       "    </tr>\n",
       "    <tr>\n",
       "      <th>283816</th>\n",
       "      <td>BEERENS</td>\n",
       "      <td>131379</td>\n",
       "      <td>129</td>\n",
       "      <td>0.04</td>\n",
       "      <td>88909.74</td>\n",
       "      <td>97.67</td>\n",
       "      <td>0</td>\n",
       "      <td>0</td>\n",
       "      <td>0</td>\n",
       "      <td>(S)</td>\n",
       "      <td>(S)</td>\n",
       "    </tr>\n",
       "    <tr>\n",
       "      <th>237113</th>\n",
       "      <td>INGWERSON</td>\n",
       "      <td>85357</td>\n",
       "      <td>219</td>\n",
       "      <td>0.07</td>\n",
       "      <td>86268.54</td>\n",
       "      <td>89.5</td>\n",
       "      <td>0</td>\n",
       "      <td>4.11</td>\n",
       "      <td>(S)</td>\n",
       "      <td>3.2</td>\n",
       "      <td>(S)</td>\n",
       "    </tr>\n",
       "    <tr>\n",
       "      <th>172013</th>\n",
       "      <td>ROYALS</td>\n",
       "      <td>20336</td>\n",
       "      <td>1307</td>\n",
       "      <td>0.44</td>\n",
       "      <td>75531.46</td>\n",
       "      <td>76.59</td>\n",
       "      <td>18.97</td>\n",
       "      <td>(S)</td>\n",
       "      <td>(S)</td>\n",
       "      <td>1.53</td>\n",
       "      <td>2.45</td>\n",
       "    </tr>\n",
       "    <tr>\n",
       "      <th>113952</th>\n",
       "      <td>PIAO</td>\n",
       "      <td>113519</td>\n",
       "      <td>143</td>\n",
       "      <td>0.05</td>\n",
       "      <td>88090.05</td>\n",
       "      <td>999</td>\n",
       "      <td>999</td>\n",
       "      <td>95.1</td>\n",
       "      <td>0</td>\n",
       "      <td>999</td>\n",
       "      <td>999</td>\n",
       "    </tr>\n",
       "  </tbody>\n",
       "</table>\n",
       "</div>"
      ],
      "text/plain": [
       "              name    rank  count  prop100k  cum_prop100k pctwhite pctblack  \\\n",
       "229413  VANDERWYST   77522    247      0.08      85661.83     99.6        0   \n",
       "154254        BEAM    2584  13972      4.74      52461.61    92.66     3.06   \n",
       "74098       PORSCH   73931    244      0.09      85354.89    93.44      999   \n",
       "301707      KIRSHY  149395    110      0.04      89630.15      100        0   \n",
       "222479  ARMANTROUT   70645    277      0.09      85047.99    93.14        0   \n",
       "233831       PYTKO   82044    230      0.08      86018.63     98.7      (S)   \n",
       "283816     BEERENS  131379    129      0.04      88909.74    97.67        0   \n",
       "237113   INGWERSON   85357    219      0.07      86268.54     89.5        0   \n",
       "172013      ROYALS   20336   1307      0.44      75531.46    76.59    18.97   \n",
       "113952        PIAO  113519    143      0.05      88090.05      999      999   \n",
       "\n",
       "       pctapi pctaian pct2prace pcthispanic  \n",
       "229413    (S)       0         0         (S)  \n",
       "154254    0.4    0.46      1.47        1.95  \n",
       "74098     999       0         0        4.51  \n",
       "301707      0       0         0           0  \n",
       "222479    (S)    2.89       (S)        2.53  \n",
       "233831      0       0       (S)           0  \n",
       "283816      0       0       (S)         (S)  \n",
       "237113   4.11     (S)       3.2         (S)  \n",
       "172013    (S)     (S)      1.53        2.45  \n",
       "113952   95.1       0       999         999  "
      ]
     },
     "execution_count": 49,
     "metadata": {},
     "output_type": "execute_result"
    }
   ],
   "source": [
    "census.sample(10)"
   ]
  },
  {
   "cell_type": "code",
   "execution_count": 45,
   "metadata": {},
   "outputs": [
    {
     "data": {
      "text/plain": [
       "name                0\n",
       "rank                0\n",
       "count               0\n",
       "prop100k            0\n",
       "cum_prop100k        0\n",
       "pctwhite         5075\n",
       "pctblack        68501\n",
       "pctapi          73062\n",
       "pctaian         53615\n",
       "pct2prace       63138\n",
       "pcthispanic     51950\n",
       "dtype: int64"
      ]
     },
     "execution_count": 45,
     "metadata": {},
     "output_type": "execute_result"
    }
   ],
   "source": [
    "census.apply(lambda x: x == '(S)').sum()"
   ]
  },
  {
   "cell_type": "code",
   "execution_count": 51,
   "metadata": {},
   "outputs": [],
   "source": [
    "for r in RACE_COLS:\n",
    "    census[r] = census[r].apply(lambda x: 999 if x == '(S)' else float(x), 1)"
   ]
  },
  {
   "cell_type": "code",
   "execution_count": 54,
   "metadata": {},
   "outputs": [
    {
     "data": {
      "text/html": [
       "<div>\n",
       "<style scoped>\n",
       "    .dataframe tbody tr th:only-of-type {\n",
       "        vertical-align: middle;\n",
       "    }\n",
       "\n",
       "    .dataframe tbody tr th {\n",
       "        vertical-align: top;\n",
       "    }\n",
       "\n",
       "    .dataframe thead th {\n",
       "        text-align: right;\n",
       "    }\n",
       "</style>\n",
       "<table border=\"1\" class=\"dataframe\">\n",
       "  <thead>\n",
       "    <tr style=\"text-align: right;\">\n",
       "      <th></th>\n",
       "      <th>name</th>\n",
       "      <th>rank</th>\n",
       "      <th>count</th>\n",
       "      <th>prop100k</th>\n",
       "      <th>cum_prop100k</th>\n",
       "      <th>pctwhite</th>\n",
       "      <th>pctblack</th>\n",
       "      <th>pctapi</th>\n",
       "      <th>pctaian</th>\n",
       "      <th>pct2prace</th>\n",
       "      <th>pcthispanic</th>\n",
       "    </tr>\n",
       "  </thead>\n",
       "  <tbody>\n",
       "    <tr>\n",
       "      <th>313920</th>\n",
       "      <td>DIETZMANN</td>\n",
       "      <td>160975</td>\n",
       "      <td>100</td>\n",
       "      <td>0.03</td>\n",
       "      <td>90062.93</td>\n",
       "      <td>96.00</td>\n",
       "      <td>0.00</td>\n",
       "      <td>0.00</td>\n",
       "      <td>999.00</td>\n",
       "      <td>0.00</td>\n",
       "      <td>999.00</td>\n",
       "    </tr>\n",
       "    <tr>\n",
       "      <th>313921</th>\n",
       "      <td>DOKAS</td>\n",
       "      <td>160975</td>\n",
       "      <td>100</td>\n",
       "      <td>0.03</td>\n",
       "      <td>90062.96</td>\n",
       "      <td>94.00</td>\n",
       "      <td>999.00</td>\n",
       "      <td>0.00</td>\n",
       "      <td>0.00</td>\n",
       "      <td>999.00</td>\n",
       "      <td>999.00</td>\n",
       "    </tr>\n",
       "    <tr>\n",
       "      <th>313922</th>\n",
       "      <td>DONLEA</td>\n",
       "      <td>160975</td>\n",
       "      <td>100</td>\n",
       "      <td>0.03</td>\n",
       "      <td>90062.99</td>\n",
       "      <td>94.00</td>\n",
       "      <td>0.00</td>\n",
       "      <td>0.00</td>\n",
       "      <td>0.00</td>\n",
       "      <td>0.00</td>\n",
       "      <td>6.00</td>\n",
       "    </tr>\n",
       "    <tr>\n",
       "      <th>313923</th>\n",
       "      <td>DORIOTT</td>\n",
       "      <td>160975</td>\n",
       "      <td>100</td>\n",
       "      <td>0.03</td>\n",
       "      <td>90063.03</td>\n",
       "      <td>89.00</td>\n",
       "      <td>0.00</td>\n",
       "      <td>999.00</td>\n",
       "      <td>0.00</td>\n",
       "      <td>5.00</td>\n",
       "      <td>999.00</td>\n",
       "    </tr>\n",
       "    <tr>\n",
       "      <th>313924</th>\n",
       "      <td>ALL OTHER NAMES</td>\n",
       "      <td>0</td>\n",
       "      <td>29312001</td>\n",
       "      <td>9936.97</td>\n",
       "      <td>9936.97</td>\n",
       "      <td>66.65</td>\n",
       "      <td>8.53</td>\n",
       "      <td>7.97</td>\n",
       "      <td>0.86</td>\n",
       "      <td>2.32</td>\n",
       "      <td>13.67</td>\n",
       "    </tr>\n",
       "  </tbody>\n",
       "</table>\n",
       "</div>"
      ],
      "text/plain": [
       "                   name    rank     count  prop100k  cum_prop100k  pctwhite  \\\n",
       "313920        DIETZMANN  160975       100      0.03      90062.93     96.00   \n",
       "313921            DOKAS  160975       100      0.03      90062.96     94.00   \n",
       "313922           DONLEA  160975       100      0.03      90062.99     94.00   \n",
       "313923          DORIOTT  160975       100      0.03      90063.03     89.00   \n",
       "313924  ALL OTHER NAMES       0  29312001   9936.97       9936.97     66.65   \n",
       "\n",
       "        pctblack  pctapi  pctaian  pct2prace  pcthispanic  \n",
       "313920      0.00    0.00   999.00       0.00       999.00  \n",
       "313921    999.00    0.00     0.00     999.00       999.00  \n",
       "313922      0.00    0.00     0.00       0.00         6.00  \n",
       "313923      0.00  999.00     0.00       5.00       999.00  \n",
       "313924      8.53    7.97     0.86       2.32        13.67  "
      ]
     },
     "execution_count": 54,
     "metadata": {},
     "output_type": "execute_result"
    }
   ],
   "source": [
    "census.tail()"
   ]
  },
  {
   "cell_type": "code",
   "execution_count": 71,
   "metadata": {},
   "outputs": [
    {
     "name": "stdout",
     "output_type": "stream",
     "text": [
      "0 row done\n",
      "10000 row done\n",
      "20000 row done\n",
      "30000 row done\n",
      "40000 row done\n",
      "50000 row done\n",
      "60000 row done\n",
      "70000 row done\n",
      "80000 row done\n",
      "90000 row done\n",
      "100000 row done\n",
      "110000 row done\n",
      "120000 row done\n",
      "130000 row done\n",
      "140000 row done\n",
      "150000 row done\n",
      "160000 row done\n",
      "170000 row done\n",
      "180000 row done\n",
      "190000 row done\n",
      "200000 row done\n",
      "210000 row done\n",
      "220000 row done\n",
      "230000 row done\n",
      "240000 row done\n",
      "250000 row done\n",
      "260000 row done\n",
      "270000 row done\n",
      "280000 row done\n",
      "290000 row done\n",
      "300000 row done\n",
      "310000 row done\n",
      "CPU times: user 18min 4s, sys: 6min 15s, total: 24min 20s\n",
      "Wall time: 24min 25s\n"
     ]
    }
   ],
   "source": [
    "%%time\n",
    "for idx, row in census.iterrows():\n",
    "    if idx % 10_000 == 0:\n",
    "        print(f'{idx} row done')\n",
    "    if sum(row[RACE_COLS]) > 100:\n",
    "        missing_race = []\n",
    "        missing_value = 100\n",
    "        for k, v in row[RACE_COLS].items():\n",
    "            if v > 100:\n",
    "                missing_race.append(k)\n",
    "            else:\n",
    "                missing_value -= v\n",
    "\n",
    "        if missing_race:\n",
    "            missing_value /= len(missing_race)\n",
    "\n",
    "            for race in missing_race:\n",
    "                census.loc[idx, race] = missing_value"
   ]
  },
  {
   "cell_type": "code",
   "execution_count": 94,
   "metadata": {},
   "outputs": [],
   "source": [
    "census.groupby('name').agg({\n",
    "    'pctwhite': np.mean, 'pctblack': np.mean, 'pctapi': np.mean, 'pctaian': np.mean, 'pct2prace': np.mean, 'pcthispanic': np.mean, 'count': max}).reset_index().to_csv('../data/census.csv', index=False)"
   ]
  },
  {
   "cell_type": "code",
   "execution_count": 95,
   "metadata": {},
   "outputs": [
    {
     "data": {
      "text/plain": [
       "167408"
      ]
     },
     "execution_count": 95,
     "metadata": {},
     "output_type": "execute_result"
    }
   ],
   "source": [
    "census.name.nunique()"
   ]
  },
  {
   "cell_type": "code",
   "execution_count": 99,
   "metadata": {},
   "outputs": [
    {
     "data": {
      "text/plain": [
       "5.37100302"
      ]
     },
     "execution_count": 99,
     "metadata": {},
     "output_type": "execute_result"
    }
   ],
   "source": [
    "census['count'].sum()/1e8"
   ]
  },
  {
   "cell_type": "code",
   "execution_count": null,
   "metadata": {},
   "outputs": [],
   "source": []
  }
 ],
 "metadata": {
  "kernelspec": {
   "display_name": "Python 3",
   "language": "python",
   "name": "python3"
  },
  "language_info": {
   "codemirror_mode": {
    "name": "ipython",
    "version": 3
   },
   "file_extension": ".py",
   "mimetype": "text/x-python",
   "name": "python",
   "nbconvert_exporter": "python",
   "pygments_lexer": "ipython3",
   "version": "3.6.1"
  }
 },
 "nbformat": 4,
 "nbformat_minor": 4
}
