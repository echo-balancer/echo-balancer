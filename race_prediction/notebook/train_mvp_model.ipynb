{
  "nbformat": 4,
  "nbformat_minor": 0,
  "metadata": {
    "colab": {
      "name": "train_mvp_model.ipynb",
      "provenance": []
    },
    "kernelspec": {
      "name": "python3",
      "display_name": "Python 3"
    },
    "accelerator": "GPU"
  },
  "cells": [
    {
      "cell_type": "code",
      "metadata": {
        "colab": {
          "base_uri": "https://localhost:8080/"
        },
        "id": "yqC-H0kb0GXx",
        "outputId": "407334fe-17ec-4f2e-8b6f-403b738218a5"
      },
      "source": [
        "from google.colab import drive\n",
        "drive.mount('/content/drive')"
      ],
      "execution_count": 1,
      "outputs": [
        {
          "output_type": "stream",
          "text": [
            "Drive already mounted at /content/drive; to attempt to forcibly remount, call drive.mount(\"/content/drive\", force_remount=True).\n"
          ],
          "name": "stdout"
        }
      ]
    },
    {
      "cell_type": "code",
      "metadata": {
        "id": "x0Xw9TZz0IXX"
      },
      "source": [
        "!pip install tensorflow==2.2.0 -q"
      ],
      "execution_count": 2,
      "outputs": []
    },
    {
      "cell_type": "code",
      "metadata": {
        "id": "3G9XUhl10O1L",
        "colab": {
          "base_uri": "https://localhost:8080/",
          "height": 35
        },
        "outputId": "fbf4bafd-f937-4001-9a43-d3c8e22f49e8"
      },
      "source": [
        "import pandas as pd\n",
        "import numpy as np\n",
        "\n",
        "import tensorflow as tf\n",
        "from tensorflow import keras\n",
        "from tensorflow.keras import layers\n",
        "\n",
        "tf.__version__"
      ],
      "execution_count": 3,
      "outputs": [
        {
          "output_type": "execute_result",
          "data": {
            "application/vnd.google.colaboratory.intrinsic+json": {
              "type": "string"
            },
            "text/plain": [
              "'2.2.0'"
            ]
          },
          "metadata": {
            "tags": []
          },
          "execution_count": 3
        }
      ]
    },
    {
      "cell_type": "code",
      "metadata": {
        "colab": {
          "base_uri": "https://localhost:8080/"
        },
        "id": "2yOE_j7IldrL",
        "outputId": "4533b6a3-1e56-4efd-9315-ce23424f3169"
      },
      "source": [
        "from sklearn.model_selection import train_test_split\n",
        "from sklearn.metrics import classification_report\n",
        "\n",
        "from imblearn.over_sampling import SMOTE "
      ],
      "execution_count": 4,
      "outputs": [
        {
          "output_type": "stream",
          "text": [
            "/usr/local/lib/python3.7/dist-packages/sklearn/externals/six.py:31: FutureWarning: The module is deprecated in version 0.21 and will be removed in version 0.23 since we've dropped support for Python 2.7. Please rely on the official version of six (https://pypi.org/project/six/).\n",
            "  \"(https://pypi.org/project/six/).\", FutureWarning)\n",
            "/usr/local/lib/python3.7/dist-packages/sklearn/utils/deprecation.py:144: FutureWarning: The sklearn.neighbors.base module is  deprecated in version 0.22 and will be removed in version 0.24. The corresponding classes / functions should instead be imported from sklearn.neighbors. Anything that cannot be imported from sklearn.neighbors is now part of the private API.\n",
            "  warnings.warn(message, FutureWarning)\n"
          ],
          "name": "stderr"
        }
      ]
    },
    {
      "cell_type": "code",
      "metadata": {
        "id": "nPSS9_KklmG8"
      },
      "source": [
        "MAX_NAME_LENGTH = 16\n",
        "BATCH_SIZE = 128\n",
        "RACES = ['pctwhite', 'pctblack', 'pctapi', 'pcthispanic', 'other']"
      ],
      "execution_count": 5,
      "outputs": []
    },
    {
      "cell_type": "code",
      "metadata": {
        "colab": {
          "base_uri": "https://localhost:8080/"
        },
        "id": "Q75qOfx-lmjq",
        "outputId": "0b150e7e-6a6b-4d8e-f760-ac58a4ef191c"
      },
      "source": [
        "df = pd.read_csv('drive/MyDrive/census.csv')\n",
        "df['name'] = df['name'].map(str.title)\n",
        "print(df.shape)"
      ],
      "execution_count": 6,
      "outputs": [
        {
          "output_type": "stream",
          "text": [
            "(167408, 8)\n"
          ],
          "name": "stdout"
        }
      ]
    },
    {
      "cell_type": "code",
      "metadata": {
        "id": "WrJS7sBqlwzu"
      },
      "source": [
        "df['other'] = df['pctaian'] + df['pct2prace']\n",
        "df.drop(['pctaian', 'pct2prace'], 1, inplace=True)"
      ],
      "execution_count": 7,
      "outputs": []
    },
    {
      "cell_type": "code",
      "metadata": {
        "colab": {
          "base_uri": "https://localhost:8080/",
          "height": 142
        },
        "id": "LkGPwM6CaROs",
        "outputId": "c2ee4429-5e1f-492d-8106-8101aff69332"
      },
      "source": [
        "df.sample(3)"
      ],
      "execution_count": 8,
      "outputs": [
        {
          "output_type": "execute_result",
          "data": {
            "text/html": [
              "<div>\n",
              "<style scoped>\n",
              "    .dataframe tbody tr th:only-of-type {\n",
              "        vertical-align: middle;\n",
              "    }\n",
              "\n",
              "    .dataframe tbody tr th {\n",
              "        vertical-align: top;\n",
              "    }\n",
              "\n",
              "    .dataframe thead th {\n",
              "        text-align: right;\n",
              "    }\n",
              "</style>\n",
              "<table border=\"1\" class=\"dataframe\">\n",
              "  <thead>\n",
              "    <tr style=\"text-align: right;\">\n",
              "      <th></th>\n",
              "      <th>name</th>\n",
              "      <th>pctwhite</th>\n",
              "      <th>pctblack</th>\n",
              "      <th>pctapi</th>\n",
              "      <th>pcthispanic</th>\n",
              "      <th>count</th>\n",
              "      <th>other</th>\n",
              "    </tr>\n",
              "  </thead>\n",
              "  <tbody>\n",
              "    <tr>\n",
              "      <th>116571</th>\n",
              "      <td>Pinyan</td>\n",
              "      <td>98.890</td>\n",
              "      <td>0.00</td>\n",
              "      <td>0.000</td>\n",
              "      <td>0.246667</td>\n",
              "      <td>406</td>\n",
              "      <td>0.863333</td>\n",
              "    </tr>\n",
              "    <tr>\n",
              "      <th>60370</th>\n",
              "      <td>Hafiz</td>\n",
              "      <td>20.335</td>\n",
              "      <td>10.52</td>\n",
              "      <td>53.425</td>\n",
              "      <td>1.310000</td>\n",
              "      <td>580</td>\n",
              "      <td>14.410000</td>\n",
              "    </tr>\n",
              "    <tr>\n",
              "      <th>153136</th>\n",
              "      <td>Twinn</td>\n",
              "      <td>41.485</td>\n",
              "      <td>8.50</td>\n",
              "      <td>1.715</td>\n",
              "      <td>1.715000</td>\n",
              "      <td>164</td>\n",
              "      <td>46.585000</td>\n",
              "    </tr>\n",
              "  </tbody>\n",
              "</table>\n",
              "</div>"
            ],
            "text/plain": [
              "          name  pctwhite  pctblack  pctapi  pcthispanic  count      other\n",
              "116571  Pinyan    98.890      0.00   0.000     0.246667    406   0.863333\n",
              "60370    Hafiz    20.335     10.52  53.425     1.310000    580  14.410000\n",
              "153136   Twinn    41.485      8.50   1.715     1.715000    164  46.585000"
            ]
          },
          "metadata": {
            "tags": []
          },
          "execution_count": 8
        }
      ]
    },
    {
      "cell_type": "code",
      "metadata": {
        "id": "fNsniEvc9jpn"
      },
      "source": [
        "def get_ngrams(text, n=2):\n",
        "    return [text[i:i+n] for i in range(len(text)-1)]\n",
        "\n",
        "df['name_list'] = df['name'].map(list)\n",
        "df['bi_gram_name'] = df['name'].map(get_ngrams)\n",
        "df['name_cat'] = (df['name_list'] + df['bi_gram_name']).apply(lambda x: \" \".join(x))"
      ],
      "execution_count": 9,
      "outputs": []
    },
    {
      "cell_type": "code",
      "metadata": {
        "id": "WncjbBsP4Wx_"
      },
      "source": [
        "def pad_to_sequences(x, encoder):\n",
        "    x = encoder.texts_to_sequences(x)\n",
        "    return keras.preprocessing.sequence.pad_sequences(x, maxlen=MAX_NAME_LENGTH)\n"
      ],
      "execution_count": 10,
      "outputs": []
    },
    {
      "cell_type": "code",
      "metadata": {
        "id": "FEAShv-uNFbJ"
      },
      "source": [
        "train_idx, test_idx = train_test_split(df.index, test_size=.2, random_state=42)"
      ],
      "execution_count": 11,
      "outputs": []
    },
    {
      "cell_type": "code",
      "metadata": {
        "colab": {
          "base_uri": "https://localhost:8080/"
        },
        "id": "4Nkjs-Ka32wB",
        "outputId": "9b71efad-6663-4cae-f224-4e519ce0b46e"
      },
      "source": [
        "# very imbalanced dataset\n",
        "df_truncate = (df[RACES] > 30) * 1\n",
        "df_truncate = df_truncate[RACES]\n",
        "y_train = df_truncate.loc[train_idx].to_numpy()\n",
        "y_test = df_truncate.loc[test_idx].to_numpy()\n",
        "\n",
        "y_train.sum(0) / max(y_train.sum(0))"
      ],
      "execution_count": 15,
      "outputs": [
        {
          "output_type": "execute_result",
          "data": {
            "text/plain": [
              "array([1.        , 0.07646737, 0.07162029, 0.08650586, 0.00783126])"
            ]
          },
          "metadata": {
            "tags": []
          },
          "execution_count": 15
        }
      ]
    },
    {
      "cell_type": "code",
      "metadata": {
        "colab": {
          "base_uri": "https://localhost:8080/"
        },
        "id": "f7LtY1xl49D8",
        "outputId": "6d340311-630a-449f-b9b6-b7ef91431f20"
      },
      "source": [
        "%%time\n",
        "X_train = df.loc[train_idx, 'name']\n",
        "X_test = df.loc[test_idx, 'name']\n",
        "\n",
        "encoder = keras.preprocessing.text.Tokenizer(char_level=True, lower=False)\n",
        "encoder.fit_on_texts(X_train)\n",
        "\n",
        "x_train = pad_to_sequences(X_train, encoder)\n",
        "x_test = pad_to_sequences(X_test, encoder)"
      ],
      "execution_count": 16,
      "outputs": [
        {
          "output_type": "stream",
          "text": [
            "CPU times: user 1.5 s, sys: 43.5 ms, total: 1.55 s\n",
            "Wall time: 1.51 s\n"
          ],
          "name": "stdout"
        }
      ]
    },
    {
      "cell_type": "code",
      "metadata": {
        "colab": {
          "base_uri": "https://localhost:8080/"
        },
        "id": "1RTifWHZPTDB",
        "outputId": "d9b92604-4da5-4c73-a679-9be67e11238d"
      },
      "source": [
        "%%time\n",
        "sm = SMOTE(random_state=42)\n",
        "\n",
        "X_sm, y_sm = sm.fit_resample(x_train, y_train)\n",
        "\n",
        "print(f\"\"\"Shape of X before SMOTE: {x_train.shape}\n",
        "Shape of X after SMOTE: {X_sm.shape}\"\"\")\n"
      ],
      "execution_count": 17,
      "outputs": [
        {
          "output_type": "stream",
          "text": [
            "/usr/local/lib/python3.7/dist-packages/sklearn/utils/deprecation.py:87: FutureWarning: Function safe_indexing is deprecated; safe_indexing is deprecated in version 0.22 and will be removed in version 0.24.\n",
            "  warnings.warn(msg, category=FutureWarning)\n",
            "/usr/local/lib/python3.7/dist-packages/sklearn/utils/deprecation.py:87: FutureWarning: Function safe_indexing is deprecated; safe_indexing is deprecated in version 0.22 and will be removed in version 0.24.\n",
            "  warnings.warn(msg, category=FutureWarning)\n",
            "/usr/local/lib/python3.7/dist-packages/sklearn/utils/deprecation.py:87: FutureWarning: Function safe_indexing is deprecated; safe_indexing is deprecated in version 0.22 and will be removed in version 0.24.\n",
            "  warnings.warn(msg, category=FutureWarning)\n",
            "/usr/local/lib/python3.7/dist-packages/sklearn/utils/deprecation.py:87: FutureWarning: Function safe_indexing is deprecated; safe_indexing is deprecated in version 0.22 and will be removed in version 0.24.\n",
            "  warnings.warn(msg, category=FutureWarning)\n"
          ],
          "name": "stderr"
        },
        {
          "output_type": "stream",
          "text": [
            "Shape of X before SMOTE: (133926, 16)\n",
            "Shape of X after SMOTE: (566385, 16)\n",
            "CPU times: user 3.59 s, sys: 41.4 ms, total: 3.63 s\n",
            "Wall time: 3.64 s\n"
          ],
          "name": "stdout"
        }
      ]
    },
    {
      "cell_type": "code",
      "metadata": {
        "colab": {
          "base_uri": "https://localhost:8080/"
        },
        "id": "Gt24OpQR47-8",
        "outputId": "0f490c97-8888-45dc-98f6-e3874a34746d"
      },
      "source": [
        "X_sm.shape, y_sm.shape, x_test.shape, y_test.shape"
      ],
      "execution_count": 18,
      "outputs": [
        {
          "output_type": "execute_result",
          "data": {
            "text/plain": [
              "((566385, 16), (566385, 5), (33482, 16), (33482, 5))"
            ]
          },
          "metadata": {
            "tags": []
          },
          "execution_count": 18
        }
      ]
    },
    {
      "cell_type": "code",
      "metadata": {
        "colab": {
          "base_uri": "https://localhost:8080/"
        },
        "id": "mSPUD1bu48Qs",
        "outputId": "ca5ad83e-23d6-442d-e8f4-80939a2587ca"
      },
      "source": [
        "def build_simple_lstm_model(encoder, embedding_dim=32, num_classes=5, lr=0.001):\n",
        "    model = keras.Sequential()\n",
        "\n",
        "    model.add(layers.Embedding(len(encoder.index_word) + 1, \n",
        "                               embedding_dim, \n",
        "                               input_length=MAX_NAME_LENGTH))\n",
        "\n",
        "    # model.add(layers.LSTM(2 * embedding_dim, activation=\"tanh\", return_sequences=True, dropout=.2, recurrent_dropout=0.2))\n",
        "    # model.add(layers.BatchNormalization())\n",
        "\n",
        "    model.add(layers.LSTM(64, activation=\"tanh\", dropout=.2))\n",
        "    model.add(layers.Dense(128, activation=\"relu\"))\n",
        "    model.add(layers.Dense(32, activation=\"relu\"))\n",
        "    model.add(layers.Dense(num_classes, activation=\"softmax\"))\n",
        "\n",
        "    optimizer = keras.optimizers.Adam(learning_rate=lr)\n",
        "    model.compile(optimizer=optimizer, \n",
        "                  loss=\"binary_crossentropy\", # prev categorical_crossentropy\n",
        "                  metrics=[\"accuracy\"])\n",
        "\n",
        "    model.summary()\n",
        "\n",
        "    return model\n",
        "\n",
        "model = build_simple_lstm_model(encoder, 32, len(RACES))"
      ],
      "execution_count": 20,
      "outputs": [
        {
          "output_type": "stream",
          "text": [
            "Model: \"sequential\"\n",
            "_________________________________________________________________\n",
            "Layer (type)                 Output Shape              Param #   \n",
            "=================================================================\n",
            "embedding (Embedding)        (None, 16, 32)            1728      \n",
            "_________________________________________________________________\n",
            "lstm (LSTM)                  (None, 64)                24832     \n",
            "_________________________________________________________________\n",
            "dense (Dense)                (None, 128)               8320      \n",
            "_________________________________________________________________\n",
            "dense_1 (Dense)              (None, 32)                4128      \n",
            "_________________________________________________________________\n",
            "dense_2 (Dense)              (None, 5)                 165       \n",
            "=================================================================\n",
            "Total params: 39,173\n",
            "Trainable params: 39,173\n",
            "Non-trainable params: 0\n",
            "_________________________________________________________________\n"
          ],
          "name": "stdout"
        }
      ]
    },
    {
      "cell_type": "code",
      "metadata": {
        "id": "jmEWLXphaIKi",
        "colab": {
          "base_uri": "https://localhost:8080/"
        },
        "outputId": "dc79e539-95a2-4591-c738-c71714750846"
      },
      "source": [
        "%%time\n",
        "callback = tf.keras.callbacks.EarlyStopping(monitor='val_loss', patience=5)\n",
        "model.fit(x=X_sm, \n",
        "          y=y_sm, \n",
        "          epochs=200, \n",
        "          shuffle=True,\n",
        "          batch_size=512, \n",
        "          validation_split=0.1, \n",
        "          callbacks=[callback])"
      ],
      "execution_count": 21,
      "outputs": [
        {
          "output_type": "stream",
          "text": [
            "Epoch 1/200\n",
            "996/996 [==============================] - 6s 6ms/step - loss: 0.4169 - accuracy: 0.4590 - val_loss: 0.6047 - val_accuracy: 0.1272\n",
            "Epoch 2/200\n",
            "996/996 [==============================] - 6s 6ms/step - loss: 0.3744 - accuracy: 0.5331 - val_loss: 0.5078 - val_accuracy: 0.2879\n",
            "Epoch 3/200\n",
            "996/996 [==============================] - 6s 6ms/step - loss: 0.3488 - accuracy: 0.5731 - val_loss: 0.4861 - val_accuracy: 0.3313\n",
            "Epoch 4/200\n",
            "996/996 [==============================] - 6s 6ms/step - loss: 0.3319 - accuracy: 0.5999 - val_loss: 0.4629 - val_accuracy: 0.4067\n",
            "Epoch 5/200\n",
            "996/996 [==============================] - 6s 6ms/step - loss: 0.3191 - accuracy: 0.6194 - val_loss: 0.4151 - val_accuracy: 0.4736\n",
            "Epoch 6/200\n",
            "996/996 [==============================] - 6s 6ms/step - loss: 0.3082 - accuracy: 0.6362 - val_loss: 0.3552 - val_accuracy: 0.5717\n",
            "Epoch 7/200\n",
            "996/996 [==============================] - 6s 6ms/step - loss: 0.2985 - accuracy: 0.6512 - val_loss: 0.3512 - val_accuracy: 0.5818\n",
            "Epoch 8/200\n",
            "996/996 [==============================] - 6s 6ms/step - loss: 0.2898 - accuracy: 0.6635 - val_loss: 0.3296 - val_accuracy: 0.6188\n",
            "Epoch 9/200\n",
            "996/996 [==============================] - 6s 6ms/step - loss: 0.2820 - accuracy: 0.6742 - val_loss: 0.2573 - val_accuracy: 0.7242\n",
            "Epoch 10/200\n",
            "996/996 [==============================] - 6s 6ms/step - loss: 0.2750 - accuracy: 0.6840 - val_loss: 0.3050 - val_accuracy: 0.6632\n",
            "Epoch 11/200\n",
            "996/996 [==============================] - 6s 6ms/step - loss: 0.2685 - accuracy: 0.6935 - val_loss: 0.2320 - val_accuracy: 0.7613\n",
            "Epoch 12/200\n",
            "996/996 [==============================] - 6s 6ms/step - loss: 0.2628 - accuracy: 0.7007 - val_loss: 0.1901 - val_accuracy: 0.8123\n",
            "Epoch 13/200\n",
            "996/996 [==============================] - 6s 6ms/step - loss: 0.2578 - accuracy: 0.7072 - val_loss: 0.2422 - val_accuracy: 0.7516\n",
            "Epoch 14/200\n",
            "996/996 [==============================] - 6s 6ms/step - loss: 0.2529 - accuracy: 0.7145 - val_loss: 0.1923 - val_accuracy: 0.8113\n",
            "Epoch 15/200\n",
            "996/996 [==============================] - 6s 6ms/step - loss: 0.2488 - accuracy: 0.7196 - val_loss: 0.1718 - val_accuracy: 0.8338\n",
            "Epoch 16/200\n",
            "996/996 [==============================] - 6s 6ms/step - loss: 0.2448 - accuracy: 0.7249 - val_loss: 0.2067 - val_accuracy: 0.7950\n",
            "Epoch 17/200\n",
            "996/996 [==============================] - 6s 6ms/step - loss: 0.2411 - accuracy: 0.7300 - val_loss: 0.1942 - val_accuracy: 0.8103\n",
            "Epoch 18/200\n",
            "996/996 [==============================] - 6s 6ms/step - loss: 0.2377 - accuracy: 0.7336 - val_loss: 0.1722 - val_accuracy: 0.8351\n",
            "Epoch 19/200\n",
            "996/996 [==============================] - 6s 6ms/step - loss: 0.2345 - accuracy: 0.7382 - val_loss: 0.1413 - val_accuracy: 0.8679\n",
            "Epoch 20/200\n",
            "996/996 [==============================] - 6s 6ms/step - loss: 0.2316 - accuracy: 0.7425 - val_loss: 0.1204 - val_accuracy: 0.8891\n",
            "Epoch 21/200\n",
            "996/996 [==============================] - 6s 6ms/step - loss: 0.2282 - accuracy: 0.7458 - val_loss: 0.1367 - val_accuracy: 0.8716\n",
            "Epoch 22/200\n",
            "996/996 [==============================] - 6s 6ms/step - loss: 0.2260 - accuracy: 0.7499 - val_loss: 0.1324 - val_accuracy: 0.8759\n",
            "Epoch 23/200\n",
            "996/996 [==============================] - 6s 6ms/step - loss: 0.2233 - accuracy: 0.7522 - val_loss: 0.1236 - val_accuracy: 0.8844\n",
            "Epoch 24/200\n",
            "996/996 [==============================] - 6s 6ms/step - loss: 0.2207 - accuracy: 0.7562 - val_loss: 0.1260 - val_accuracy: 0.8825\n",
            "Epoch 25/200\n",
            "996/996 [==============================] - 6s 6ms/step - loss: 0.2186 - accuracy: 0.7583 - val_loss: 0.1187 - val_accuracy: 0.8907\n",
            "Epoch 26/200\n",
            "996/996 [==============================] - 6s 6ms/step - loss: 0.2165 - accuracy: 0.7615 - val_loss: 0.1096 - val_accuracy: 0.8992\n",
            "Epoch 27/200\n",
            "996/996 [==============================] - 6s 6ms/step - loss: 0.2143 - accuracy: 0.7649 - val_loss: 0.1082 - val_accuracy: 0.9011\n",
            "Epoch 28/200\n",
            "996/996 [==============================] - 6s 6ms/step - loss: 0.2126 - accuracy: 0.7664 - val_loss: 0.1287 - val_accuracy: 0.8791\n",
            "Epoch 29/200\n",
            "996/996 [==============================] - 6s 6ms/step - loss: 0.2108 - accuracy: 0.7696 - val_loss: 0.1050 - val_accuracy: 0.9032\n",
            "Epoch 30/200\n",
            "996/996 [==============================] - 6s 6ms/step - loss: 0.2090 - accuracy: 0.7715 - val_loss: 0.0923 - val_accuracy: 0.9173\n",
            "Epoch 31/200\n",
            "996/996 [==============================] - 6s 6ms/step - loss: 0.2069 - accuracy: 0.7742 - val_loss: 0.1009 - val_accuracy: 0.9112\n",
            "Epoch 32/200\n",
            "996/996 [==============================] - 6s 6ms/step - loss: 0.2054 - accuracy: 0.7763 - val_loss: 0.0991 - val_accuracy: 0.9113\n",
            "Epoch 33/200\n",
            "996/996 [==============================] - 6s 6ms/step - loss: 0.2044 - accuracy: 0.7770 - val_loss: 0.1032 - val_accuracy: 0.9066\n",
            "Epoch 34/200\n",
            "996/996 [==============================] - 6s 6ms/step - loss: 0.2029 - accuracy: 0.7789 - val_loss: 0.0799 - val_accuracy: 0.9313\n",
            "Epoch 35/200\n",
            "996/996 [==============================] - 6s 6ms/step - loss: 0.2015 - accuracy: 0.7815 - val_loss: 0.0846 - val_accuracy: 0.9241\n",
            "Epoch 36/200\n",
            "996/996 [==============================] - 6s 6ms/step - loss: 0.2006 - accuracy: 0.7824 - val_loss: 0.0878 - val_accuracy: 0.9212\n",
            "Epoch 37/200\n",
            "996/996 [==============================] - 6s 6ms/step - loss: 0.1986 - accuracy: 0.7843 - val_loss: 0.0728 - val_accuracy: 0.9369\n",
            "Epoch 38/200\n",
            "996/996 [==============================] - 6s 6ms/step - loss: 0.1975 - accuracy: 0.7857 - val_loss: 0.0793 - val_accuracy: 0.9312\n",
            "Epoch 39/200\n",
            "996/996 [==============================] - 6s 6ms/step - loss: 0.1963 - accuracy: 0.7874 - val_loss: 0.0958 - val_accuracy: 0.9153\n",
            "Epoch 40/200\n",
            "996/996 [==============================] - 5s 5ms/step - loss: 0.1948 - accuracy: 0.7894 - val_loss: 0.0911 - val_accuracy: 0.9192\n",
            "Epoch 41/200\n",
            "996/996 [==============================] - 5s 5ms/step - loss: 0.1939 - accuracy: 0.7910 - val_loss: 0.0782 - val_accuracy: 0.9313\n",
            "Epoch 42/200\n",
            "996/996 [==============================] - 6s 6ms/step - loss: 0.1925 - accuracy: 0.7926 - val_loss: 0.0810 - val_accuracy: 0.9289\n",
            "CPU times: user 4min 25s, sys: 28.1 s, total: 4min 53s\n",
            "Wall time: 4min 5s\n"
          ],
          "name": "stdout"
        }
      ]
    },
    {
      "cell_type": "code",
      "metadata": {
        "colab": {
          "base_uri": "https://localhost:8080/"
        },
        "id": "AvtfTKDsnJra",
        "outputId": "54a3c852-ca8c-401d-b9c0-552f425ac43d"
      },
      "source": [
        "y_pred = model.predict(x_test, 1024, verbose=1)\n",
        "print(classification_report(y_test, y_pred.round(), target_names=RACES))"
      ],
      "execution_count": 23,
      "outputs": [
        {
          "output_type": "stream",
          "text": [
            "33/33 [==============================] - 0s 3ms/step\n",
            "              precision    recall  f1-score   support\n",
            "\n",
            "    pctwhite       0.93      0.79      0.86     28272\n",
            "    pctblack       0.21      0.15      0.17      2215\n",
            "      pctapi       0.41      0.47      0.44      2049\n",
            " pcthispanic       0.51      0.52      0.51      2421\n",
            "       other       0.08      0.09      0.08       246\n",
            "\n",
            "   micro avg       0.81      0.71      0.76     35203\n",
            "   macro avg       0.43      0.40      0.41     35203\n",
            "weighted avg       0.82      0.71      0.76     35203\n",
            " samples avg       0.74      0.72      0.73     35203\n",
            "\n"
          ],
          "name": "stdout"
        },
        {
          "output_type": "stream",
          "text": [
            "/usr/local/lib/python3.7/dist-packages/sklearn/metrics/_classification.py:1272: UndefinedMetricWarning: Precision and F-score are ill-defined and being set to 0.0 in samples with no predicted labels. Use `zero_division` parameter to control this behavior.\n",
            "  _warn_prf(average, modifier, msg_start, len(result))\n",
            "/usr/local/lib/python3.7/dist-packages/sklearn/metrics/_classification.py:1272: UndefinedMetricWarning: Recall and F-score are ill-defined and being set to 0.0 in samples with no true labels. Use `zero_division` parameter to control this behavior.\n",
            "  _warn_prf(average, modifier, msg_start, len(result))\n"
          ],
          "name": "stderr"
        }
      ]
    },
    {
      "cell_type": "code",
      "metadata": {
        "colab": {
          "base_uri": "https://localhost:8080/"
        },
        "id": "bVn82vkunm0e",
        "outputId": "a681e35a-1c76-422c-bc86-bb259b845f5d"
      },
      "source": [
        "model.predict(pad_to_sequences([\"Ouyang\", \"Wong\", \"Ximen\", \"Seibel\"], encoder)).round(2)"
      ],
      "execution_count": 30,
      "outputs": [
        {
          "output_type": "execute_result",
          "data": {
            "text/plain": [
              "array([[0.  , 0.09, 0.9 , 0.  , 0.  ],\n",
              "       [0.03, 0.  , 0.96, 0.  , 0.  ],\n",
              "       [0.31, 0.27, 0.35, 0.07, 0.  ],\n",
              "       [0.82, 0.13, 0.01, 0.04, 0.  ]], dtype=float32)"
            ]
          },
          "metadata": {
            "tags": []
          },
          "execution_count": 30
        }
      ]
    },
    {
      "cell_type": "code",
      "metadata": {
        "colab": {
          "base_uri": "https://localhost:8080/",
          "height": 80
        },
        "id": "Oii46JgaqjNV",
        "outputId": "2d32bdbc-a174-425a-ad3b-ce1756d225ed"
      },
      "source": [
        "df[df.name=='Seibel']"
      ],
      "execution_count": 26,
      "outputs": [
        {
          "output_type": "execute_result",
          "data": {
            "text/html": [
              "<div>\n",
              "<style scoped>\n",
              "    .dataframe tbody tr th:only-of-type {\n",
              "        vertical-align: middle;\n",
              "    }\n",
              "\n",
              "    .dataframe tbody tr th {\n",
              "        vertical-align: top;\n",
              "    }\n",
              "\n",
              "    .dataframe thead th {\n",
              "        text-align: right;\n",
              "    }\n",
              "</style>\n",
              "<table border=\"1\" class=\"dataframe\">\n",
              "  <thead>\n",
              "    <tr style=\"text-align: right;\">\n",
              "      <th></th>\n",
              "      <th>name</th>\n",
              "      <th>pctwhite</th>\n",
              "      <th>pctblack</th>\n",
              "      <th>pctapi</th>\n",
              "      <th>pcthispanic</th>\n",
              "      <th>count</th>\n",
              "      <th>other</th>\n",
              "      <th>name_list</th>\n",
              "      <th>bi_gram_name</th>\n",
              "      <th>name_cat</th>\n",
              "    </tr>\n",
              "  </thead>\n",
              "  <tbody>\n",
              "    <tr>\n",
              "      <th>134615</th>\n",
              "      <td>Seibel</td>\n",
              "      <td>95.325</td>\n",
              "      <td>0.255</td>\n",
              "      <td>0.725</td>\n",
              "      <td>1.99</td>\n",
              "      <td>4331</td>\n",
              "      <td>1.7</td>\n",
              "      <td>[S, e, i, b, e, l]</td>\n",
              "      <td>[Se, ei, ib, be, el]</td>\n",
              "      <td>S e i b e l Se ei ib be el</td>\n",
              "    </tr>\n",
              "  </tbody>\n",
              "</table>\n",
              "</div>"
            ],
            "text/plain": [
              "          name  pctwhite  ...          bi_gram_name                    name_cat\n",
              "134615  Seibel    95.325  ...  [Se, ei, ib, be, el]  S e i b e l Se ei ib be el\n",
              "\n",
              "[1 rows x 10 columns]"
            ]
          },
          "metadata": {
            "tags": []
          },
          "execution_count": 26
        }
      ]
    },
    {
      "cell_type": "code",
      "metadata": {
        "colab": {
          "base_uri": "https://localhost:8080/"
        },
        "id": "g8kZmRPKqqiU",
        "outputId": "d91c6482-a09b-437b-abee-cbea430ed7b6"
      },
      "source": [
        "model.save('drive/MyDrive/echo-meter/race_predictor_mvp')"
      ],
      "execution_count": 28,
      "outputs": [
        {
          "output_type": "stream",
          "text": [
            "WARNING:tensorflow:From /usr/local/lib/python3.7/dist-packages/tensorflow/python/ops/resource_variable_ops.py:1817: calling BaseResourceVariable.__init__ (from tensorflow.python.ops.resource_variable_ops) with constraint is deprecated and will be removed in a future version.\n",
            "Instructions for updating:\n",
            "If using Keras pass *_constraint arguments to layers.\n",
            "INFO:tensorflow:Assets written to: drive/MyDrive/echo-meter/race_predictor_mvp/assets\n"
          ],
          "name": "stdout"
        }
      ]
    },
    {
      "cell_type": "code",
      "metadata": {
        "id": "AA0cxCQdrDRe"
      },
      "source": [
        "import pickle\n",
        "pickle.dump( encoder, open( \"drive/MyDrive/echo-meter/encoder.pkl\", \"wb\" ) )"
      ],
      "execution_count": 29,
      "outputs": []
    },
    {
      "cell_type": "code",
      "metadata": {
        "id": "jAHVdL-Ormrf"
      },
      "source": [
        ""
      ],
      "execution_count": null,
      "outputs": []
    }
  ]
}