{
 "cells": [
  {
   "cell_type": "code",
   "execution_count": 20,
   "id": "34ff7ea8",
   "metadata": {},
   "outputs": [
    {
     "data": {
      "text/plain": [
       "(200, 6)"
      ]
     },
     "execution_count": 20,
     "metadata": {},
     "output_type": "execute_result"
    }
   ],
   "source": [
    "import re\n",
    "import pandas as pd\n",
    "\n",
    "MAX_NAME_LENGTH = 16\n",
    "BATCH_SIZE = 128\n",
    "INFLUENCER_MIN_FOLLOWERS = 1000\n",
    "NAME_DENY_LIST = {'Journal', 'Institute', 'News', 'The', 'AI', 'Capital'}\n",
    "RACES = ['pctwhite', 'pctblack', 'pctapi', 'pcthispanic', 'other']\n",
    "\n",
    "df = pd.read_json('friends.json')\n",
    "\n",
    "df.shape"
   ]
  },
  {
   "cell_type": "code",
   "execution_count": 9,
   "id": "40d18c74",
   "metadata": {},
   "outputs": [
    {
     "data": {
      "text/html": [
       "<div>\n",
       "<style scoped>\n",
       "    .dataframe tbody tr th:only-of-type {\n",
       "        vertical-align: middle;\n",
       "    }\n",
       "\n",
       "    .dataframe tbody tr th {\n",
       "        vertical-align: top;\n",
       "    }\n",
       "\n",
       "    .dataframe thead th {\n",
       "        text-align: right;\n",
       "    }\n",
       "</style>\n",
       "<table border=\"1\" class=\"dataframe\">\n",
       "  <thead>\n",
       "    <tr style=\"text-align: right;\">\n",
       "      <th></th>\n",
       "      <th>next_cursor</th>\n",
       "      <th>next_cursor_str</th>\n",
       "      <th>previous_cursor</th>\n",
       "      <th>previous_cursor_str</th>\n",
       "      <th>total_count</th>\n",
       "      <th>users</th>\n",
       "    </tr>\n",
       "  </thead>\n",
       "  <tbody>\n",
       "    <tr>\n",
       "      <th>0</th>\n",
       "      <td>1545601571879068086</td>\n",
       "      <td>1545601571879068160</td>\n",
       "      <td>0</td>\n",
       "      <td>0</td>\n",
       "      <td>NaN</td>\n",
       "      <td>{'blocked_by': False, 'blocking': False, 'cont...</td>\n",
       "    </tr>\n",
       "    <tr>\n",
       "      <th>1</th>\n",
       "      <td>1545601571879068086</td>\n",
       "      <td>1545601571879068160</td>\n",
       "      <td>0</td>\n",
       "      <td>0</td>\n",
       "      <td>NaN</td>\n",
       "      <td>{'blocked_by': False, 'blocking': False, 'cont...</td>\n",
       "    </tr>\n",
       "    <tr>\n",
       "      <th>2</th>\n",
       "      <td>1545601571879068086</td>\n",
       "      <td>1545601571879068160</td>\n",
       "      <td>0</td>\n",
       "      <td>0</td>\n",
       "      <td>NaN</td>\n",
       "      <td>{'blocked_by': False, 'blocking': False, 'cont...</td>\n",
       "    </tr>\n",
       "    <tr>\n",
       "      <th>3</th>\n",
       "      <td>1545601571879068086</td>\n",
       "      <td>1545601571879068160</td>\n",
       "      <td>0</td>\n",
       "      <td>0</td>\n",
       "      <td>NaN</td>\n",
       "      <td>{'blocked_by': False, 'blocking': False, 'cont...</td>\n",
       "    </tr>\n",
       "    <tr>\n",
       "      <th>4</th>\n",
       "      <td>1545601571879068086</td>\n",
       "      <td>1545601571879068160</td>\n",
       "      <td>0</td>\n",
       "      <td>0</td>\n",
       "      <td>NaN</td>\n",
       "      <td>{'blocked_by': False, 'blocking': False, 'cont...</td>\n",
       "    </tr>\n",
       "  </tbody>\n",
       "</table>\n",
       "</div>"
      ],
      "text/plain": [
       "           next_cursor      next_cursor_str  previous_cursor  \\\n",
       "0  1545601571879068086  1545601571879068160                0   \n",
       "1  1545601571879068086  1545601571879068160                0   \n",
       "2  1545601571879068086  1545601571879068160                0   \n",
       "3  1545601571879068086  1545601571879068160                0   \n",
       "4  1545601571879068086  1545601571879068160                0   \n",
       "\n",
       "   previous_cursor_str  total_count  \\\n",
       "0                    0          NaN   \n",
       "1                    0          NaN   \n",
       "2                    0          NaN   \n",
       "3                    0          NaN   \n",
       "4                    0          NaN   \n",
       "\n",
       "                                               users  \n",
       "0  {'blocked_by': False, 'blocking': False, 'cont...  \n",
       "1  {'blocked_by': False, 'blocking': False, 'cont...  \n",
       "2  {'blocked_by': False, 'blocking': False, 'cont...  \n",
       "3  {'blocked_by': False, 'blocking': False, 'cont...  \n",
       "4  {'blocked_by': False, 'blocking': False, 'cont...  "
      ]
     },
     "execution_count": 9,
     "metadata": {},
     "output_type": "execute_result"
    }
   ],
   "source": [
    "df.head()"
   ]
  },
  {
   "cell_type": "code",
   "execution_count": 4,
   "id": "fb7152f5",
   "metadata": {},
   "outputs": [
    {
     "data": {
      "text/plain": [
       "1425511"
      ]
     },
     "execution_count": 4,
     "metadata": {},
     "output_type": "execute_result"
    }
   ],
   "source": [
    "df['users'][120]['followers_count']"
   ]
  },
  {
   "cell_type": "code",
   "execution_count": 5,
   "id": "51ce7154",
   "metadata": {},
   "outputs": [
    {
     "data": {
      "text/plain": [
       "'Guy Kawasaki'"
      ]
     },
     "execution_count": 5,
     "metadata": {},
     "output_type": "execute_result"
    }
   ],
   "source": [
    "df['users'][120]['name']"
   ]
  },
  {
   "cell_type": "code",
   "execution_count": 6,
   "id": "73c77725",
   "metadata": {},
   "outputs": [],
   "source": [
    "import tensorflow as tf\n",
    "from tensorflow import keras\n",
    "from tensorflow.keras import layers"
   ]
  },
  {
   "cell_type": "code",
   "execution_count": 8,
   "id": "bd9864c3",
   "metadata": {},
   "outputs": [
    {
     "name": "stdout",
     "output_type": "stream",
     "text": [
      "CPU times: user 1.84 s, sys: 61 ms, total: 1.9 s\n",
      "Wall time: 1.92 s\n"
     ]
    }
   ],
   "source": [
    "%%time\n",
    "model = keras.models.load_model(\"../model/race_predictor_mvp\")"
   ]
  },
  {
   "cell_type": "code",
   "execution_count": 9,
   "id": "edee068e",
   "metadata": {},
   "outputs": [],
   "source": [
    "import pickle\n",
    "encoder = pickle.load(open('../model/encoder.pkl', 'rb'))"
   ]
  },
  {
   "cell_type": "code",
   "execution_count": 22,
   "id": "faebe5a9",
   "metadata": {},
   "outputs": [
    {
     "name": "stdout",
     "output_type": "stream",
     "text": [
      "WARNING:tensorflow:From /Users/beimingliu/.pyenv/versions/3.6.1/envs/echo-chamber-meter/lib/python3.6/site-packages/tensorflow_core/python/keras/initializers.py:119: calling RandomUniform.__init__ (from tensorflow.python.ops.init_ops) with dtype is deprecated and will be removed in a future version.\n",
      "Instructions for updating:\n",
      "Call initializer instance with the dtype argument instead of passing it to the constructor\n",
      "Model: \"sequential\"\n",
      "_________________________________________________________________\n",
      "Layer (type)                 Output Shape              Param #   \n",
      "=================================================================\n",
      "embedding (Embedding)        (None, 32, 32)            1728      \n",
      "_________________________________________________________________\n",
      "lstm (LSTM)                  (None, 64)                24832     \n",
      "_________________________________________________________________\n",
      "dense (Dense)                (None, 128)               8320      \n",
      "_________________________________________________________________\n",
      "dense_1 (Dense)              (None, 32)                4128      \n",
      "_________________________________________________________________\n",
      "dense_2 (Dense)              (None, 5)                 165       \n",
      "=================================================================\n",
      "Total params: 39,173\n",
      "Trainable params: 39,173\n",
      "Non-trainable params: 0\n",
      "_________________________________________________________________\n"
     ]
    }
   ],
   "source": [
    "model = build_simple_lstm_model(encoder, 32, 5)"
   ]
  },
  {
   "cell_type": "code",
   "execution_count": 11,
   "id": "193d6033",
   "metadata": {},
   "outputs": [],
   "source": [
    "def pad_to_sequences(x, encoder):\n",
    "    x = encoder.texts_to_sequences(x)\n",
    "    return keras.preprocessing.sequence.pad_sequences(x, maxlen=MAX_NAME_LENGTH)"
   ]
  },
  {
   "cell_type": "code",
   "execution_count": 14,
   "id": "ad844bba",
   "metadata": {},
   "outputs": [
    {
     "name": "stdout",
     "output_type": "stream",
     "text": [
      "CPU times: user 1.02 s, sys: 38.2 ms, total: 1.06 s\n",
      "Wall time: 1.06 s\n"
     ]
    }
   ],
   "source": [
    "%%time\n",
    "import json\n",
    "\n",
    "with open('../data/census.jsonl', 'rb') as json_file:\n",
    "    CENSUS = {}\n",
    "    for l in json_file:\n",
    "        l = json.loads(l)\n",
    "        CENSUS[l['name']] = {\n",
    "            'pctwhite': l['pctwhite'],\n",
    "            'pctblack': l['pctblack'],\n",
    "            'pctapi': l['pctapi'],\n",
    "            'pcthispanic': l['pcthispanic'],\n",
    "            'other': l['other']\n",
    "    }\n",
    "  "
   ]
  },
  {
   "cell_type": "code",
   "execution_count": 16,
   "id": "35b0ab9b",
   "metadata": {},
   "outputs": [],
   "source": [
    "def get_name_and_info(data):\n",
    "    \"\"\"prase name from twitter raw data, filter out news publishers/official branded accounts\"\"\"\n",
    "    parsed_data =  [\n",
    "        (get_english_only(i['name']), \n",
    "         1 if i['followers_count'] > INFLUENCER_MIN_FOLLOWERS else 0) for i in data['users'] \n",
    "        if 'news' not in i['description'].lower() and 'official' not in i['description'].lower()]\n",
    "        \n",
    "    # hardcode blacklist to remove obvious business accounts\n",
    "    parsed_data = [i for i in parsed_data if not any(w in i[0] for w in NAME_DENY_LIST)]\n",
    "    \n",
    "    # personal accounts tends to have 1 or 2 spaces only in the name\n",
    "    parsed_data = [i for i in parsed_data if i[0].count(' ') > 0 and i[0].count(' ') < 3]\n",
    "    \n",
    "    return parsed_data\n",
    "\n",
    "\n",
    "def get_english_only(text):\n",
    "    return re.sub('[^A-Za-z ]+', '', text).strip()"
   ]
  },
  {
   "cell_type": "code",
   "execution_count": 25,
   "id": "57673a7d",
   "metadata": {},
   "outputs": [],
   "source": [
    "with open('friends.json') as json_file:\n",
    "    data = json.load(json_file)\n",
    "    \n",
    "df = pd.DataFrame(get_name_and_info(data), columns=['name', 'is_influencer'])\n",
    "df['last_name'] = df['name'].apply(lambda x: x.split()[-1].title())\n",
    "df = df[df['last_name'].map(len) > 1].reset_index(drop=True)"
   ]
  },
  {
   "cell_type": "code",
   "execution_count": 44,
   "id": "021860dc",
   "metadata": {},
   "outputs": [
    {
     "data": {
      "text/html": [
       "<div>\n",
       "<style scoped>\n",
       "    .dataframe tbody tr th:only-of-type {\n",
       "        vertical-align: middle;\n",
       "    }\n",
       "\n",
       "    .dataframe tbody tr th {\n",
       "        vertical-align: top;\n",
       "    }\n",
       "\n",
       "    .dataframe thead th {\n",
       "        text-align: right;\n",
       "    }\n",
       "</style>\n",
       "<table border=\"1\" class=\"dataframe\">\n",
       "  <thead>\n",
       "    <tr style=\"text-align: right;\">\n",
       "      <th></th>\n",
       "      <th>name</th>\n",
       "      <th>is_influencer</th>\n",
       "      <th>last_name</th>\n",
       "    </tr>\n",
       "  </thead>\n",
       "  <tbody>\n",
       "    <tr>\n",
       "      <th>0</th>\n",
       "      <td>Jane Wang</td>\n",
       "      <td>1</td>\n",
       "      <td>Wang</td>\n",
       "    </tr>\n",
       "    <tr>\n",
       "      <th>1</th>\n",
       "      <td>Cristina Cordova</td>\n",
       "      <td>1</td>\n",
       "      <td>Cordova</td>\n",
       "    </tr>\n",
       "    <tr>\n",
       "      <th>2</th>\n",
       "      <td>Henry Golding</td>\n",
       "      <td>1</td>\n",
       "      <td>Golding</td>\n",
       "    </tr>\n",
       "    <tr>\n",
       "      <th>3</th>\n",
       "      <td>Karen Chee</td>\n",
       "      <td>1</td>\n",
       "      <td>Chee</td>\n",
       "    </tr>\n",
       "    <tr>\n",
       "      <th>4</th>\n",
       "      <td>Tianqi Chen</td>\n",
       "      <td>1</td>\n",
       "      <td>Chen</td>\n",
       "    </tr>\n",
       "    <tr>\n",
       "      <th>...</th>\n",
       "      <td>...</td>\n",
       "      <td>...</td>\n",
       "      <td>...</td>\n",
       "    </tr>\n",
       "    <tr>\n",
       "      <th>111</th>\n",
       "      <td>Julia Hartz</td>\n",
       "      <td>1</td>\n",
       "      <td>Hartz</td>\n",
       "    </tr>\n",
       "    <tr>\n",
       "      <th>112</th>\n",
       "      <td>Robin Chan</td>\n",
       "      <td>1</td>\n",
       "      <td>Chan</td>\n",
       "    </tr>\n",
       "    <tr>\n",
       "      <th>113</th>\n",
       "      <td>Steven Sinofsky</td>\n",
       "      <td>1</td>\n",
       "      <td>Sinofsky</td>\n",
       "    </tr>\n",
       "    <tr>\n",
       "      <th>114</th>\n",
       "      <td>Scott Kupor</td>\n",
       "      <td>1</td>\n",
       "      <td>Kupor</td>\n",
       "    </tr>\n",
       "    <tr>\n",
       "      <th>115</th>\n",
       "      <td>Kleiner Perkins</td>\n",
       "      <td>1</td>\n",
       "      <td>Perkins</td>\n",
       "    </tr>\n",
       "  </tbody>\n",
       "</table>\n",
       "<p>116 rows × 3 columns</p>\n",
       "</div>"
      ],
      "text/plain": [
       "                 name  is_influencer last_name\n",
       "0           Jane Wang              1      Wang\n",
       "1    Cristina Cordova              1   Cordova\n",
       "2       Henry Golding              1   Golding\n",
       "3          Karen Chee              1      Chee\n",
       "4         Tianqi Chen              1      Chen\n",
       "..                ...            ...       ...\n",
       "111       Julia Hartz              1     Hartz\n",
       "112        Robin Chan              1      Chan\n",
       "113   Steven Sinofsky              1  Sinofsky\n",
       "114       Scott Kupor              1     Kupor\n",
       "115   Kleiner Perkins              1   Perkins\n",
       "\n",
       "[116 rows x 3 columns]"
      ]
     },
     "execution_count": 44,
     "metadata": {},
     "output_type": "execute_result"
    }
   ],
   "source": [
    "df"
   ]
  },
  {
   "cell_type": "code",
   "execution_count": 35,
   "id": "956169b4",
   "metadata": {},
   "outputs": [
    {
     "name": "stdout",
     "output_type": "stream",
     "text": [
      "20.1 ms ± 525 µs per loop (mean ± std. dev. of 7 runs, 10 loops each)\n"
     ]
    }
   ],
   "source": [
    "%timeit _ = df[df['last_name'].isin(CENSUS)]"
   ]
  },
  {
   "cell_type": "code",
   "execution_count": 51,
   "id": "696cc822",
   "metadata": {},
   "outputs": [],
   "source": [
    "z = set(df['last_name']) & set(CENSUS.keys())\n",
    "tmp = df[df.last_name.isin(z)]"
   ]
  },
  {
   "cell_type": "code",
   "execution_count": 66,
   "id": "5227fbe3",
   "metadata": {},
   "outputs": [
    {
     "ename": "ValueError",
     "evalue": "too many values to unpack (expected 4)",
     "output_type": "error",
     "traceback": [
      "\u001b[0;31m---------------------------------------------------------------------------\u001b[0m",
      "\u001b[0;31mValueError\u001b[0m                                Traceback (most recent call last)",
      "\u001b[0;32m<ipython-input-66-9813d73275f3>\u001b[0m in \u001b[0;36m<module>\u001b[0;34m\u001b[0m\n\u001b[0;32m----> 1\u001b[0;31m \u001b[0ma\u001b[0m\u001b[0;34m,\u001b[0m \u001b[0mb\u001b[0m\u001b[0;34m,\u001b[0m \u001b[0mc\u001b[0m\u001b[0;34m,\u001b[0m \u001b[0md\u001b[0m \u001b[0;34m=\u001b[0m \u001b[0mtmp\u001b[0m\u001b[0;34m[\u001b[0m\u001b[0;34m'last_name'\u001b[0m\u001b[0;34m]\u001b[0m\u001b[0;34m.\u001b[0m\u001b[0mmap\u001b[0m\u001b[0;34m(\u001b[0m\u001b[0mCENSUS\u001b[0m\u001b[0;34m)\u001b[0m\u001b[0;34m\u001b[0m\u001b[0m\n\u001b[0m",
      "\u001b[0;31mValueError\u001b[0m: too many values to unpack (expected 4)"
     ]
    }
   ],
   "source": [
    "a, b, c, d = tmp['last_name'].map(CENSUS)"
   ]
  },
  {
   "cell_type": "code",
   "execution_count": 63,
   "id": "6d081b3c",
   "metadata": {},
   "outputs": [
    {
     "ename": "TypeError",
     "evalue": "'numpy.ndarray' object is not callable",
     "output_type": "error",
     "traceback": [
      "\u001b[0;31m---------------------------------------------------------------------------\u001b[0m",
      "\u001b[0;31mTypeError\u001b[0m                                 Traceback (most recent call last)",
      "\u001b[0;32m<ipython-input-63-f7d59d77b4fc>\u001b[0m in \u001b[0;36m<module>\u001b[0;34m\u001b[0m\n\u001b[0;32m----> 1\u001b[0;31m \u001b[0mpd\u001b[0m\u001b[0;34m.\u001b[0m\u001b[0mDataFrame\u001b[0m\u001b[0;34m.\u001b[0m\u001b[0mfrom_dict\u001b[0m\u001b[0;34m(\u001b[0m\u001b[0mtmp\u001b[0m\u001b[0;34m[\u001b[0m\u001b[0;34m'last_name'\u001b[0m\u001b[0;34m]\u001b[0m\u001b[0;34m.\u001b[0m\u001b[0mmap\u001b[0m\u001b[0;34m(\u001b[0m\u001b[0mCENSUS\u001b[0m\u001b[0;34m)\u001b[0m\u001b[0;34m,\u001b[0m \u001b[0morient\u001b[0m\u001b[0;34m=\u001b[0m\u001b[0;34m'index'\u001b[0m\u001b[0;34m,\u001b[0m \u001b[0mcolumns\u001b[0m\u001b[0;34m=\u001b[0m\u001b[0mRACES\u001b[0m\u001b[0;34m)\u001b[0m\u001b[0;34m\u001b[0m\u001b[0m\n\u001b[0m",
      "\u001b[0;32m~/.pyenv/versions/3.6.1/envs/hack/lib/python3.6/site-packages/pandas/core/frame.py\u001b[0m in \u001b[0;36mfrom_dict\u001b[0;34m(cls, data, orient, dtype, columns)\u001b[0m\n\u001b[1;32m   1297\u001b[0m             \u001b[0;32mif\u001b[0m \u001b[0mlen\u001b[0m\u001b[0;34m(\u001b[0m\u001b[0mdata\u001b[0m\u001b[0;34m)\u001b[0m \u001b[0;34m>\u001b[0m \u001b[0;36m0\u001b[0m\u001b[0;34m:\u001b[0m\u001b[0;34m\u001b[0m\u001b[0m\n\u001b[1;32m   1298\u001b[0m                 \u001b[0;31m# TODO speed up Series case\u001b[0m\u001b[0;34m\u001b[0m\u001b[0;34m\u001b[0m\u001b[0m\n\u001b[0;32m-> 1299\u001b[0;31m                 \u001b[0;32mif\u001b[0m \u001b[0misinstance\u001b[0m\u001b[0;34m(\u001b[0m\u001b[0mlist\u001b[0m\u001b[0;34m(\u001b[0m\u001b[0mdata\u001b[0m\u001b[0;34m.\u001b[0m\u001b[0mvalues\u001b[0m\u001b[0;34m(\u001b[0m\u001b[0;34m)\u001b[0m\u001b[0;34m)\u001b[0m\u001b[0;34m[\u001b[0m\u001b[0;36m0\u001b[0m\u001b[0;34m]\u001b[0m\u001b[0;34m,\u001b[0m \u001b[0;34m(\u001b[0m\u001b[0mSeries\u001b[0m\u001b[0;34m,\u001b[0m \u001b[0mdict\u001b[0m\u001b[0;34m)\u001b[0m\u001b[0;34m)\u001b[0m\u001b[0;34m:\u001b[0m\u001b[0;34m\u001b[0m\u001b[0m\n\u001b[0m\u001b[1;32m   1300\u001b[0m                     \u001b[0mdata\u001b[0m \u001b[0;34m=\u001b[0m \u001b[0m_from_nested_dict\u001b[0m\u001b[0;34m(\u001b[0m\u001b[0mdata\u001b[0m\u001b[0;34m)\u001b[0m\u001b[0;34m\u001b[0m\u001b[0m\n\u001b[1;32m   1301\u001b[0m                 \u001b[0;32melse\u001b[0m\u001b[0;34m:\u001b[0m\u001b[0;34m\u001b[0m\u001b[0m\n",
      "\u001b[0;31mTypeError\u001b[0m: 'numpy.ndarray' object is not callable"
     ]
    }
   ],
   "source": [
    "pd.DataFrame.from_dict(tmp['last_name'].map(CENSUS), orient='index', columns=RACES)"
   ]
  },
  {
   "cell_type": "code",
   "execution_count": 46,
   "id": "76666622",
   "metadata": {},
   "outputs": [
    {
     "data": {
      "text/html": [
       "<div>\n",
       "<style scoped>\n",
       "    .dataframe tbody tr th:only-of-type {\n",
       "        vertical-align: middle;\n",
       "    }\n",
       "\n",
       "    .dataframe tbody tr th {\n",
       "        vertical-align: top;\n",
       "    }\n",
       "\n",
       "    .dataframe thead th {\n",
       "        text-align: right;\n",
       "    }\n",
       "</style>\n",
       "<table border=\"1\" class=\"dataframe\">\n",
       "  <thead>\n",
       "    <tr style=\"text-align: right;\">\n",
       "      <th></th>\n",
       "      <th>name</th>\n",
       "      <th>is_influencer</th>\n",
       "      <th>last_name</th>\n",
       "      <th>pctwhite</th>\n",
       "      <th>pctblack</th>\n",
       "      <th>pctapi</th>\n",
       "      <th>pcthispanic</th>\n",
       "      <th>other</th>\n",
       "    </tr>\n",
       "  </thead>\n",
       "  <tbody>\n",
       "  </tbody>\n",
       "</table>\n",
       "</div>"
      ],
      "text/plain": [
       "Empty DataFrame\n",
       "Columns: [name, is_influencer, last_name, pctwhite, pctblack, pctapi, pcthispanic, other]\n",
       "Index: []"
      ]
     },
     "execution_count": 46,
     "metadata": {},
     "output_type": "execute_result"
    }
   ],
   "source": [
    "tmp"
   ]
  },
  {
   "cell_type": "code",
   "execution_count": null,
   "id": "88297978",
   "metadata": {},
   "outputs": [],
   "source": [
    "# predicted results\n",
    "results = pd.DataFrame(model.predict(pad_to_sequences(df['last_name'], encoder)).round(3), columns=RACES)\n",
    "\n",
    "# concat\n",
    "df = pd.concat([df, results], 1)"
   ]
  },
  {
   "cell_type": "code",
   "execution_count": 352,
   "id": "c005ccab",
   "metadata": {},
   "outputs": [
    {
     "data": {
      "text/html": [
       "<div>\n",
       "<style scoped>\n",
       "    .dataframe tbody tr th:only-of-type {\n",
       "        vertical-align: middle;\n",
       "    }\n",
       "\n",
       "    .dataframe tbody tr th {\n",
       "        vertical-align: top;\n",
       "    }\n",
       "\n",
       "    .dataframe thead th {\n",
       "        text-align: right;\n",
       "    }\n",
       "</style>\n",
       "<table border=\"1\" class=\"dataframe\">\n",
       "  <thead>\n",
       "    <tr style=\"text-align: right;\">\n",
       "      <th></th>\n",
       "      <th>name</th>\n",
       "      <th>screen_name</th>\n",
       "      <th>is_influencer</th>\n",
       "      <th>last_name</th>\n",
       "      <th>pctwhite</th>\n",
       "      <th>pctblack</th>\n",
       "      <th>pctapi</th>\n",
       "      <th>pcthispanic</th>\n",
       "      <th>other</th>\n",
       "    </tr>\n",
       "  </thead>\n",
       "  <tbody>\n",
       "    <tr>\n",
       "      <th>50</th>\n",
       "      <td>Greg Brockman</td>\n",
       "      <td>gdb</td>\n",
       "      <td>1</td>\n",
       "      <td>Brockman</td>\n",
       "      <td>0.990</td>\n",
       "      <td>0.009</td>\n",
       "      <td>0.001</td>\n",
       "      <td>0.000</td>\n",
       "      <td>0.000</td>\n",
       "    </tr>\n",
       "    <tr>\n",
       "      <th>51</th>\n",
       "      <td>New China</td>\n",
       "      <td>XinhuaChinese</td>\n",
       "      <td>1</td>\n",
       "      <td>China</td>\n",
       "      <td>0.480</td>\n",
       "      <td>0.004</td>\n",
       "      <td>0.116</td>\n",
       "      <td>0.092</td>\n",
       "      <td>0.308</td>\n",
       "    </tr>\n",
       "    <tr>\n",
       "      <th>52</th>\n",
       "      <td>Josh Hartung</td>\n",
       "      <td>joshuahartung</td>\n",
       "      <td>0</td>\n",
       "      <td>Hartung</td>\n",
       "      <td>0.795</td>\n",
       "      <td>0.067</td>\n",
       "      <td>0.137</td>\n",
       "      <td>0.001</td>\n",
       "      <td>0.000</td>\n",
       "    </tr>\n",
       "    <tr>\n",
       "      <th>53</th>\n",
       "      <td>Baidu Inc</td>\n",
       "      <td>Baidu_Inc</td>\n",
       "      <td>1</td>\n",
       "      <td>Inc</td>\n",
       "      <td>0.263</td>\n",
       "      <td>0.090</td>\n",
       "      <td>0.629</td>\n",
       "      <td>0.018</td>\n",
       "      <td>0.000</td>\n",
       "    </tr>\n",
       "    <tr>\n",
       "      <th>54</th>\n",
       "      <td>MacCallister Higgins</td>\n",
       "      <td>macjshiggins</td>\n",
       "      <td>1</td>\n",
       "      <td>Higgins</td>\n",
       "      <td>0.421</td>\n",
       "      <td>0.578</td>\n",
       "      <td>0.000</td>\n",
       "      <td>0.000</td>\n",
       "      <td>0.001</td>\n",
       "    </tr>\n",
       "    <tr>\n",
       "      <th>55</th>\n",
       "      <td>Yuanqing Lin</td>\n",
       "      <td>YuanqingLin</td>\n",
       "      <td>1</td>\n",
       "      <td>Lin</td>\n",
       "      <td>0.025</td>\n",
       "      <td>0.000</td>\n",
       "      <td>0.973</td>\n",
       "      <td>0.002</td>\n",
       "      <td>0.000</td>\n",
       "    </tr>\n",
       "  </tbody>\n",
       "</table>\n",
       "</div>"
      ],
      "text/plain": [
       "                    name    screen_name  is_influencer last_name  pctwhite  \\\n",
       "50         Greg Brockman            gdb              1  Brockman     0.990   \n",
       "51             New China  XinhuaChinese              1     China     0.480   \n",
       "52          Josh Hartung  joshuahartung              0   Hartung     0.795   \n",
       "53             Baidu Inc      Baidu_Inc              1       Inc     0.263   \n",
       "54  MacCallister Higgins   macjshiggins              1   Higgins     0.421   \n",
       "55          Yuanqing Lin    YuanqingLin              1       Lin     0.025   \n",
       "\n",
       "    pctblack  pctapi  pcthispanic  other  \n",
       "50     0.009   0.001        0.000  0.000  \n",
       "51     0.004   0.116        0.092  0.308  \n",
       "52     0.067   0.137        0.001  0.000  \n",
       "53     0.090   0.629        0.018  0.000  \n",
       "54     0.578   0.000        0.000  0.001  \n",
       "55     0.000   0.973        0.002  0.000  "
      ]
     },
     "execution_count": 352,
     "metadata": {},
     "output_type": "execute_result"
    }
   ],
   "source": [
    "df.loc[50:55]"
   ]
  },
  {
   "cell_type": "code",
   "execution_count": 378,
   "id": "565629ab",
   "metadata": {},
   "outputs": [],
   "source": [
    "def diversity_calculation(df, prefix=''):\n",
    "    \"\"\"round up small nubmers and round down big numbers\"\"\"\n",
    "    if len(df) == 0:\n",
    "        d = {\n",
    "            'pctwhite': 0,\n",
    "            'pctblack': 0,\n",
    "            'pctapi': 0,\n",
    "            'pcthispanic': 0,\n",
    "            'other': 0,\n",
    "            'total_count': 0\n",
    "        }\n",
    "    else:\n",
    "        pct = (df[RACES].mean() * 100).map(math.ceil)\n",
    "        d = dict(pct)\n",
    "        for k, v in d.items():\n",
    "            if v == max(pct):\n",
    "                d[k] = max(pct) - sum(pct) + 100\n",
    "                break\n",
    "        d['total_count'] = len(df)\n",
    "        \n",
    "    if prefix:\n",
    "        d = {prefix + '_' + k: v for k, v in d.items()}\n",
    "    return d"
   ]
  },
  {
   "cell_type": "code",
   "execution_count": 43,
   "id": "f59a5c4b",
   "metadata": {},
   "outputs": [],
   "source": []
  },
  {
   "cell_type": "code",
   "execution_count": 381,
   "id": "55c4e37a",
   "metadata": {},
   "outputs": [],
   "source": [
    "def get_diversity(data):\n",
    "    df = pd.DataFrame(get_name_and_info(data), columns=['name', 'is_influencer'])\n",
    "    df['last_name'] = df['name'].apply(lambda x: x.split()[-1].title())\n",
    "    df = df[df['last_name'].map(len) > 1].reset_index(drop=True)\n",
    "\n",
    "    # predicted results\n",
    "    results = pd.DataFrame(model.predict(pad_to_sequences(df['last_name'], encoder)).round(3), columns=RACES)\n",
    "\n",
    "    # concat\n",
    "    df = pd.concat([df, results], 1)\n",
    "    \n",
    "    # update distribution through census data if possible\n",
    "    for idx, row in df.iterrows():\n",
    "        if row['last_name'] in CENSUS:\n",
    "            df.loc[idx, RACES] = CENSUS[row['last_name']].values()\n",
    "        \n",
    "    # ignore the distributions that are less prominent\n",
    "    df = df[df[RACES].max(1) > .5]\n",
    "    \n",
    "    return {**diversity_calculation(df), **diversity_calculation(df[df['is_influencer'] == 1], 'influencer')}"
   ]
  },
  {
   "cell_type": "code",
   "execution_count": 387,
   "id": "be5f118e",
   "metadata": {},
   "outputs": [
    {
     "data": {
      "text/plain": [
       "{'pctwhite': 0,\n",
       " 'pctblack': 0,\n",
       " 'pctapi': 0,\n",
       " 'pcthispanic': 0,\n",
       " 'other': 0,\n",
       " 'total_count': 0,\n",
       " 'influencer_pctwhite': 0,\n",
       " 'influencer_pctblack': 0,\n",
       " 'influencer_pctapi': 0,\n",
       " 'influencer_pcthispanic': 0,\n",
       " 'influencer_other': 0,\n",
       " 'influencer_total_count': 0}"
      ]
     },
     "execution_count": 387,
     "metadata": {},
     "output_type": "execute_result"
    }
   ],
   "source": [
    "empty_df = pd.DataFrame()\n",
    "{**diversity_calculation(empty_df), **diversity_calculation(empty_df, 'influencer')}"
   ]
  },
  {
   "cell_type": "code",
   "execution_count": null,
   "id": "5c5fc9f0",
   "metadata": {},
   "outputs": [],
   "source": []
  }
 ],
 "metadata": {
  "kernelspec": {
   "display_name": "Python 3",
   "language": "python",
   "name": "python3"
  },
  "language_info": {
   "codemirror_mode": {
    "name": "ipython",
    "version": 3
   },
   "file_extension": ".py",
   "mimetype": "text/x-python",
   "name": "python",
   "nbconvert_exporter": "python",
   "pygments_lexer": "ipython3",
   "version": "3.6.1"
  },
  "toc": {
   "base_numbering": 1,
   "nav_menu": {},
   "number_sections": true,
   "sideBar": true,
   "skip_h1_title": false,
   "title_cell": "Table of Contents",
   "title_sidebar": "Contents",
   "toc_cell": false,
   "toc_position": {},
   "toc_section_display": true,
   "toc_window_display": false
  }
 },
 "nbformat": 4,
 "nbformat_minor": 5
}
